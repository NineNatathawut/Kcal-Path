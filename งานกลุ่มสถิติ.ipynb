{
  "cells": [
    {
      "cell_type": "markdown",
      "metadata": {
        "id": "view-in-github",
        "colab_type": "text"
      },
      "source": [
        "<a href=\"https://colab.research.google.com/github/NineNatathawut/Kcal-Path/blob/main/%E0%B8%87%E0%B8%B2%E0%B8%99%E0%B8%81%E0%B8%A5%E0%B8%B8%E0%B9%88%E0%B8%A1%E0%B8%AA%E0%B8%96%E0%B8%B4%E0%B8%95%E0%B8%B4.ipynb\" target=\"_parent\"><img src=\"https://colab.research.google.com/assets/colab-badge.svg\" alt=\"Open In Colab\"/></a>"
      ]
    },
    {
      "cell_type": "markdown",
      "source": [
        "# New Section"
      ],
      "metadata": {
        "id": "7J8s2GMW8N-v"
      }
    },
    {
      "cell_type": "code",
      "source": [
        "import pandas as pd\n",
        "import io\n",
        "\n",
        "# ข้อมูลจากตารางที่ให้มา\n",
        "data = \"\"\"\n",
        "คนที่,เพศ,ประเภทเกมที่เล่น,ชั่วโมงที่เล่นต่อวัน,เงินที่ใช้เติมเกมต่อเดือน (บาท)\n",
        "1,ชาย,RPG,2.5,500\n",
        "2,หญิง,RPG,4,200\n",
        "3,ชาย,MOBA,3,0\n",
        "4,หญิง,Simulation,1,150\n",
        "5,ชาย,RPG,5,800\n",
        "6,ชาย,FPS,2,300\n",
        "7,หญิง,MOBA,3.5,100\n",
        "8,ชาย,Strategy,6,0\n",
        "9,ชาย,FPS,4,600\n",
        "10,หญิง,Simulation,2,50\n",
        "11,ชาย,RPG,3,250\n",
        "12,หญิง,MOBA,2.5,0\n",
        "13,ชาย,FPS,5,1000\n",
        "14,หญิง,Strategy,3,0\n",
        "15,ชาย,MOBA,4,400\n",
        "16,หญิง,RPG,2,100\n",
        "17,ชาย,Simulation,1.5,0\n",
        "18,ชาย,FPS,3.5,700\n",
        "19,หญิง,MOBA,4.5,300\n",
        "20,ชาย,RPG,7,1500\n",
        "21,หญิง,FPS,2,200\n",
        "22,ชาย,Strategy,5.5,0\n",
        "23,หญิง,MOBA,3,150\n",
        "24,ชาย,FPS,4.5,900\n",
        "25,ชาย,RPG,6,500\n",
        "26,ชาย,Simulation,2,0\n",
        "27,หญิง,FPS,1,50\n",
        "28,ชาย,MOBA,3.5,250\n",
        "29,หญิง,RPG,5,750\n",
        "30,ชาย,FPS,4,450\n",
        "31,หญิง,Strategy,2.5,0\n",
        "32,ชาย,MOBA,6,600\n",
        "33,หญิง,Simulation,3,200\n",
        "34,ชาย,RPG,4.5,350\n",
        "\"\"\"\n",
        "\n",
        "# โหลดข้อมูลลงใน DataFrame\n",
        "df = pd.read_csv(io.StringIO(data))\n",
        "\n",
        "# เปลี่ยนชื่อคอลัมน์เพื่อให้เรียกใช้ง่ายขึ้น\n",
        "df.columns = ['person_id', 'gender', 'game_type', 'hours_per_day', 'monthly_spending']\n",
        "\n",
        "# แสดงข้อมูลพื้นฐานของ DataFrame\n",
        "print(\"--- ข้อมูลพื้นฐานของชุดข้อมูล ---\")\n",
        "df.info()\n",
        "\n",
        "# แสดงค่าสถิติเชิงพรรณนา (Descriptive Statistics) ของคอลัมน์ที่เป็นตัวเลข\n",
        "print(\"\\n--- ค่าสถิติเชิงพรรณนา ---\")\n",
        "print(df.describe())\n",
        "\n",
        "# วิเคราะห์ข้อมูลตามเพศ: คำนวณค่าเฉลี่ยของชั่วโมงที่เล่นและเงินที่ใช้จ่าย\n",
        "print(\"\\n--- การวิเคราะห์ตามเพศ ---\")\n",
        "gender_stats = df.groupby('gender')[['hours_per_day', 'monthly_spending']].mean()\n",
        "print(gender_stats)\n",
        "\n",
        "# วิเคราะห์ข้อมูลตามประเภทเกม: คำนวณค่าเฉลี่ยของชั่วโมงที่เล่นและเงินที่ใช้จ่าย\n",
        "print(\"\\n--- การวิเคราะห์ตามประเภทเกม ---\")\n",
        "game_type_stats = df.groupby('game_type')[['hours_per_day', 'monthly_spending']].mean()\n",
        "print(game_type_stats)\n",
        "\n",
        "# ค้นหาประเภทเกมที่มีค่าใช้จ่ายเฉลี่ยสูงสุด\n",
        "highest_spending_game = game_type_stats['monthly_spending'].idxmax()\n",
        "highest_spending_value = game_type_stats['monthly_spending'].max()\n",
        "print(f\"\\nประเภทเกมที่มีค่าใช้จ่ายเฉลี่ยต่อเดือนสูงสุด: {highest_spending_game} (เฉลี่ย: {highest_spending_value:.2f} บาท)\")\n",
        "\n",
        "# ค้นหาประเภทเกมที่มีชั่วโมงเล่นเฉลี่ยต่อวันสูงสุด\n",
        "most_played_game = game_type_stats['hours_per_day'].idxmax()\n",
        "most_played_value = game_type_stats['hours_per_day'].max()\n",
        "print(f\"ประเภทเกมที่มีชั่วโมงเล่นเฉลี่ยต่อวันสูงสุด: {most_played_game} (เฉลี่ย: {most_played_value:.2f} ชั่วโมง)\")"
      ],
      "metadata": {
        "colab": {
          "base_uri": "https://localhost:8080/"
        },
        "id": "CJj20uZiD4Bx",
        "outputId": "072daec4-d501-4b77-f772-438faad2367a"
      },
      "execution_count": null,
      "outputs": [
        {
          "output_type": "stream",
          "name": "stdout",
          "text": [
            "--- ข้อมูลพื้นฐานของชุดข้อมูล ---\n",
            "<class 'pandas.core.frame.DataFrame'>\n",
            "RangeIndex: 34 entries, 0 to 33\n",
            "Data columns (total 5 columns):\n",
            " #   Column            Non-Null Count  Dtype  \n",
            "---  ------            --------------  -----  \n",
            " 0   person_id         34 non-null     int64  \n",
            " 1   gender            34 non-null     object \n",
            " 2   game_type         34 non-null     object \n",
            " 3   hours_per_day     34 non-null     float64\n",
            " 4   monthly_spending  34 non-null     int64  \n",
            "dtypes: float64(1), int64(2), object(2)\n",
            "memory usage: 1.5+ KB\n",
            "\n",
            "--- ค่าสถิติเชิงพรรณนา ---\n",
            "       person_id  hours_per_day  monthly_spending\n",
            "count  34.000000      34.000000         34.000000\n",
            "mean   17.500000       3.573529        333.823529\n",
            "std     9.958246       1.533131        355.203866\n",
            "min     1.000000       1.000000          0.000000\n",
            "25%     9.250000       2.500000         50.000000\n",
            "50%    17.500000       3.500000        225.000000\n",
            "75%    25.750000       4.500000        500.000000\n",
            "max    34.000000       7.000000       1500.000000\n",
            "\n",
            "--- การวิเคราะห์ตามเพศ ---\n",
            "        hours_per_day  monthly_spending\n",
            "gender                                 \n",
            "ชาย          4.125000        455.000000\n",
            "หญิง         2.785714        160.714286\n",
            "\n",
            "--- การวิเคราะห์ตามประเภทเกม ---\n",
            "            hours_per_day  monthly_spending\n",
            "game_type                                  \n",
            "FPS              3.250000             525.0\n",
            "MOBA             3.750000             225.0\n",
            "RPG              4.333333             550.0\n",
            "Simulation       1.900000              80.0\n",
            "Strategy         4.250000               0.0\n",
            "\n",
            "ประเภทเกมที่มีค่าใช้จ่ายเฉลี่ยต่อเดือนสูงสุด: RPG (เฉลี่ย: 550.00 บาท)\n",
            "ประเภทเกมที่มีชั่วโมงเล่นเฉลี่ยต่อวันสูงสุด: RPG (เฉลี่ย: 4.33 ชั่วโมง)\n"
          ]
        }
      ]
    }
  ],
  "metadata": {
    "colab": {
      "toc_visible": true,
      "provenance": [],
      "include_colab_link": true
    },
    "kernelspec": {
      "display_name": "Python 3",
      "name": "python3"
    }
  },
  "nbformat": 4,
  "nbformat_minor": 0
}